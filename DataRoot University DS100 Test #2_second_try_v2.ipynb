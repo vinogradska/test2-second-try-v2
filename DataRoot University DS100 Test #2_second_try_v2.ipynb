{
 "cells": [
  {
   "cell_type": "markdown",
   "metadata": {},
   "source": [
    "# DataRoot University DS100 Test #2 Second Try\n",
    "На проходження тесту виділяється 71 хвилина."
   ]
  },
  {
   "cell_type": "markdown",
   "metadata": {},
   "source": [
    "## Python"
   ]
  },
  {
   "cell_type": "markdown",
   "metadata": {},
   "source": [
    "### 1.  Вирішити задачу:\n",
    "Вірус напав на файлову систему суперкомп'ютера та порушив контроль доступу до файлів. Для кожного файлу є відомий набір операцій, які можуть бути застосовані до нього:\n",
    "```\n",
    "write W\n",
    "read R\n",
    "execute X\n",
    "```\n",
    "У першому рядку міститься число N - кількість файлів, що містяться в файловій системі. Наступні N рядків містять імена файлів і дозволені операції з ними, розділені пробілами. Наступний рядок містить ціле число M - кількість операцій з файлами. У останніх M рядках вказуються операції, які вимагаються вірусом для файлів.\n",
    "\n",
    "Вам потрібно відновити контроль над правами доступу до файлів. Для кожного запиту ваша програма повинна повертати OK, якщо задана операція дійсна, або Access denied, якщо операція недійсна.\n",
    "\n",
    "Вміст файлу(можна працювати, як зі строкою):\n",
    "```\n",
    "4\n",
    "helloworld.exe R X\n",
    "pinglog W R\n",
    "nya R\n",
    "goodluck X W R\n",
    "5\n",
    "read nya\n",
    "write helloworld.exe\n",
    "execute nya\n",
    "read pinglog\n",
    "write pinglog\n",
    "```\n",
    "```\n",
    "```\n",
    "```\n",
    "```\n",
    "```\n",
    "Максимальна оцінка: 4 бали\n",
    "Рекомендований час: 10хв\n",
    "```"
   ]
  },
  {
   "cell_type": "code",
   "execution_count": null,
   "metadata": {},
   "outputs": [],
   "source": []
  },
  {
   "cell_type": "markdown",
   "metadata": {},
   "source": [
    "### 2. Маючи позитивне дійсне число a і невід'ємне ціле число n. Реалізувати функцію ```a^n``` без використання циклів, ** оператора або вбудованої функції math.pow (). Замість цього використовуйте рекурсію.\n",
    "\n",
    "```\n",
    "```\n",
    "```\n",
    "```\n",
    "```\n",
    "```\n",
    "```\n",
    "Максимальна оцінка: 2 бали\n",
    "Рекомендований час: 5хв\n",
    "```"
   ]
  },
  {
   "cell_type": "code",
   "execution_count": null,
   "metadata": {
    "collapsed": true
   },
   "outputs": [],
   "source": []
  },
  {
   "cell_type": "markdown",
   "metadata": {},
   "source": [
    "### 3. У шахах відомо, що на шаховій дошці 8 × 8 можна розмістити 8 ферзей таким чином, щоб ніхто з них не атакував одне одного. Враховуючи розміщення 8 ферзей на дошці, визначте, чи є пара ферзей, які можуть атакувати одне одного на наступному кроці. Надрукуйте слово NO, якщо жоден ферзь не може атакувати іншого, в іншому випадку надрукуйте YES. Вхід складається з восьми пар координат, по одній парі на рядок,  кожна пара відповідає положенню ферзя на стандартній шаховій дошці з рядками та стовпцями, нумерація яких починається з 1.\n",
    "\n",
    "```\n",
    "```\n",
    "```\n",
    "```\n",
    "```\n",
    "```\n",
    "```\n",
    "Максимальна оцінка: 5 балів\n",
    "Рекомендований час: 15хв\n",
    "```"
   ]
  },
  {
   "cell_type": "code",
   "execution_count": null,
   "metadata": {
    "collapsed": true
   },
   "outputs": [],
   "source": []
  },
  {
   "cell_type": "markdown",
   "metadata": {},
   "source": [
    "### 4. Реалізуйте клас Torus, який створюється за двома радіусами r, R, R > r. Містить два методи, які повертають відповідно: площу поверхні та об'єм.\n",
    "\n",
    "```\n",
    "```\n",
    "```\n",
    "```\n",
    "```\n",
    "```\n",
    "```\n",
    "Максимальна оцінка: 2 бали\n",
    "Рекомендований час: 5хв\n",
    "```"
   ]
  },
  {
   "cell_type": "code",
   "execution_count": 2,
   "metadata": {},
   "outputs": [
    {
     "name": "stdout",
     "output_type": "stream",
     "text": [
      "829.046769691506 1243.570154537259\n"
     ]
    }
   ],
   "source": [
    "import math\n",
    "class Torus:\n",
    "    def __init__(self, r, R):\n",
    "        self.__r = r\n",
    "        self.__R = R\n",
    "    \n",
    "    def area(self):\n",
    "        return 4 * math.pi ** 2 * self.__R * self.__r\n",
    "    \n",
    "    def volume(self): \n",
    "        return 2 * math.pi ** 2 * self.__R * self.__r ** 2\n",
    "    \n",
    "t = Torus(3,7)\n",
    "print( t.area(), t.volume())"
   ]
  },
  {
   "cell_type": "markdown",
   "metadata": {},
   "source": [
    "### 5.  Продемонструйте реалізацію декоратора з параметром.\n",
    "\n",
    "```\n",
    "```\n",
    "```\n",
    "```\n",
    "```\n",
    "```\n",
    "```\n",
    "Максимальна оцінка: 2 бали\n",
    "Рекомендований час: 5хв\n",
    "```"
   ]
  },
  {
   "cell_type": "code",
   "execution_count": 77,
   "metadata": {},
   "outputs": [],
   "source": [
    "def tag(name):\n",
    "    def decorator(fun_hello):\n",
    "        def inner(who):\n",
    "            print (\"<%s>\" % name)\n",
    "            fun_hello(who)\n",
    "            print (\"</%s>\" % name)\n",
    "        return inner\n",
    "    return decorator\n",
    "\n",
    "@tag(\"b\")\n",
    "def hello(who):\n",
    "    print (\"Hello\", who)"
   ]
  },
  {
   "cell_type": "markdown",
   "metadata": {
    "collapsed": true
   },
   "source": [
    "## Libraries: numpy, scipy, pandas, matplotlib"
   ]
  },
  {
   "cell_type": "markdown",
   "metadata": {},
   "source": [
    "### Numpy"
   ]
  },
  {
   "cell_type": "markdown",
   "metadata": {
    "collapsed": true
   },
   "source": [
    "### 6. Cкажімо, є два випадкові масиви A та B. Перевірте, чи вони однакові.\n",
    "```\n",
    "```\n",
    "```\n",
    "```\n",
    "```\n",
    "```\n",
    "```\n",
    "Максимальна оцінка: 2 бали\n",
    "Рекомендований час: 3хв\n",
    "```"
   ]
  },
  {
   "cell_type": "code",
   "execution_count": 14,
   "metadata": {},
   "outputs": [
    {
     "data": {
      "text/plain": [
       "False"
      ]
     },
     "execution_count": 14,
     "metadata": {},
     "output_type": "execute_result"
    }
   ],
   "source": [
    "import numpy as np\n",
    "a = np.random.rand(3)\n",
    "b = np.random.rand(3)\n",
    "np.array_equal(a, b)"
   ]
  },
  {
   "cell_type": "markdown",
   "metadata": {},
   "source": [
    "### 7. Поверніть з 2-вимірного масиву лінійно незалежні рядки.\n",
    "```\n",
    "```\n",
    "```\n",
    "```\n",
    "```\n",
    "```\n",
    "```\n",
    "Максимальна оцінка: 3 бали\n",
    "Рекомендований час: 6хв\n",
    "```"
   ]
  },
  {
   "cell_type": "code",
   "execution_count": null,
   "metadata": {
    "collapsed": true
   },
   "outputs": [],
   "source": []
  },
  {
   "cell_type": "markdown",
   "metadata": {},
   "source": [
    "### 8. Знайдіть найближче значення до заданого значення в масиві.\n",
    "```\n",
    "```\n",
    "```\n",
    "```\n",
    "```\n",
    "```\n",
    "```\n",
    "Максимальна оцінка: 2 бали\n",
    "Рекомендований час: 3хв\n",
    "```"
   ]
  },
  {
   "cell_type": "code",
   "execution_count": 22,
   "metadata": {},
   "outputs": [
    {
     "data": {
      "text/plain": [
       "array([ 0.1502118])"
      ]
     },
     "execution_count": 22,
     "metadata": {},
     "output_type": "execute_result"
    }
   ],
   "source": [
    "import numpy as np\n",
    "n = 0\n",
    "a = np.random.rand(3)\n",
    "\n",
    "a[(a == n + np.min(np.abs(a - n))) | (a == n - np.min(np.abs(a - n)))]"
   ]
  },
  {
   "cell_type": "markdown",
   "metadata": {},
   "source": [
    "### Pandas"
   ]
  },
  {
   "cell_type": "markdown",
   "metadata": {},
   "source": [
    "### 9. Скажімо, є DataFrame df з 10 стовпчиком дійсних чисел. Наприклад:"
   ]
  },
  {
   "cell_type": "code",
   "execution_count": 3,
   "metadata": {},
   "outputs": [],
   "source": [
    "import numpy as np\n",
    "import pandas as pd\n",
    "\n",
    "df = pd.DataFrame(np.random.random(size=(5, 10)), columns=list('abcdefghij'))"
   ]
  },
  {
   "cell_type": "markdown",
   "metadata": {},
   "source": [
    "Яка колонка чисел має найменшу суму?\n",
    "```\n",
    "```\n",
    "```\n",
    "```\n",
    "```\n",
    "```\n",
    "```\n",
    "Максимальна оцінка: 2 бали\n",
    "Рекомендований час: 3хв\n",
    "```"
   ]
  },
  {
   "cell_type": "code",
   "execution_count": 88,
   "metadata": {},
   "outputs": [
    {
     "name": "stdout",
     "output_type": "stream",
     "text": [
      "          a         b         c         d         e         f         g  \\\n",
      "2  3.499306  3.913905  3.141211  2.095587  3.783389  2.097113  0.350369   \n",
      "1  3.201725  1.398968  0.240218  3.744540  3.169201  0.073783  2.367568   \n",
      "3  2.564407  0.390232  1.660850  1.217725  0.819902  1.794813  3.097912   \n",
      "\n",
      "          h         i         j  \n",
      "2  3.957582  1.221708  2.902349  \n",
      "1  2.196986  3.537533  0.023796  \n",
      "3  3.925457  0.229531  2.600096  \n",
      "2.08755996636 j\n"
     ]
    }
   ],
   "source": [
    "import numpy as np\n",
    "print(df)\n",
    "for index in df:\n",
    "    a += [sum(df[index])]\n",
    "print(np.amin(a), index)"
   ]
  },
  {
   "cell_type": "markdown",
   "metadata": {},
   "source": [
    "### 10. Скажімо, є DataFrame з двома стовпчиками цілих чисел 'A' та 'B'. Значення в 'A' знаходяться між 1 та 100 включно. Для кожної групи з десяти послідовних чисел в 'A' (тобто (0, 10], (10, 20], ...), розрахуйте суму відповідних значень в 'B'.\n",
    "```\n",
    "```\n",
    "```\n",
    "```\n",
    "```\n",
    "```\n",
    "```\n",
    "Максимальна оцінка: 3 бали\n",
    "Рекомендований час: 5хв\n",
    "```"
   ]
  },
  {
   "cell_type": "code",
   "execution_count": null,
   "metadata": {
    "collapsed": true
   },
   "outputs": [],
   "source": []
  },
  {
   "cell_type": "markdown",
   "metadata": {},
   "source": [
    "### 11. Є DataFrame df зі стовпцями: групи - \"grps\" та значення - \"vals\":"
   ]
  },
  {
   "cell_type": "code",
   "execution_count": 8,
   "metadata": {},
   "outputs": [],
   "source": [
    "df = pd.DataFrame({'grps': list('aaabbcaabcccbbc'), \n",
    "                   'vals': [12,345,3,1,45,14,4,52,54,23,235,21,57,3,87]})"
   ]
  },
  {
   "cell_type": "markdown",
   "metadata": {
    "collapsed": true
   },
   "source": [
    "Для кожної групи знайдіть суму трьох найбільших значень.\n",
    "```\n",
    "```\n",
    "```\n",
    "```\n",
    "```\n",
    "```\n",
    "```\n",
    "Максимальна оцінка: 2 бали\n",
    "Рекомендований час: 3хв\n",
    "```"
   ]
  },
  {
   "cell_type": "code",
   "execution_count": 87,
   "metadata": {},
   "outputs": [
    {
     "name": "stdout",
     "output_type": "stream",
     "text": [
      "          a         b         c         d         e         f         g  \\\n",
      "2  3.499306  3.913905  3.141211  2.095587  3.783389  2.097113  0.350369   \n",
      "1  3.201725  1.398968  0.240218  3.744540  3.169201  0.073783  2.367568   \n",
      "3  2.564407  0.390232  1.660850  1.217725  0.819902  1.794813  3.097912   \n",
      "\n",
      "          h         i         j  \n",
      "2  3.957582  1.221708  2.902349  \n",
      "1  2.196986  3.537533  0.023796  \n",
      "3  3.925457  0.229531  2.600096  \n"
     ]
    },
    {
     "data": {
      "text/plain": [
       "a     9.265438\n",
       "b     5.703105\n",
       "c     5.042279\n",
       "d     7.057851\n",
       "e     7.772492\n",
       "f     3.965709\n",
       "g     5.815849\n",
       "h    10.080025\n",
       "i     4.988773\n",
       "j     5.526242\n",
       "dtype: float64"
      ]
     },
     "execution_count": 87,
     "metadata": {},
     "output_type": "execute_result"
    }
   ],
   "source": [
    "print(df)\n",
    "df.nlargest(3, 'a')\n",
    "df.sum(axis=0)"
   ]
  },
  {
   "cell_type": "markdown",
   "metadata": {},
   "source": [
    "## Scipy & Matplotlib"
   ]
  },
  {
   "cell_type": "markdown",
   "metadata": {},
   "source": [
    "### 12. За допомогою scipy згенерувати та за допомогою matplotlib побудувати вибірки, правильно підписавши осі та назвавши графік з обраними відповідними параметрами(завдання на повторення):"
   ]
  },
  {
   "cell_type": "markdown",
   "metadata": {},
   "source": [
    "#### 12.1. Виібрку з нормально розподіленої випадкової величини:\n",
    "```\n",
    "```\n",
    "```\n",
    "```\n",
    "```\n",
    "```\n",
    "```\n",
    "Максимальна оцінка: 2 бали\n",
    "Рекомендований час: 2хв\n",
    "```"
   ]
  },
  {
   "cell_type": "code",
   "execution_count": 35,
   "metadata": {},
   "outputs": [
    {
     "data": {
      "text/plain": [
       "<matplotlib.text.Text at 0x29f040f9b70>"
      ]
     },
     "execution_count": 35,
     "metadata": {},
     "output_type": "execute_result"
    },
    {
     "data": {
      "image/png": "[encoded data removed]",
      "text/plain": [
       "<matplotlib.figure.Figure at 0x29f04197550>"
      ]
     },
     "metadata": {},
     "output_type": "display_data"
    }
   ],
   "source": [
    "import matplotlib.pyplot as plt\n",
    "import scipy.stats as sts\n",
    "%matplotlib inline\n",
    "\n",
    "m = 2.0\n",
    "sigma = 0.5\n",
    "\n",
    "norm_rv = sts.norm(loc=m, scale=sigma)\n",
    "\n",
    "plt.hist(norm_rv.rvs(size=100), bins=20, normed=True)\n",
    "plt.ylabel('y')\n",
    "plt.xlabel('x')"
   ]
  },
  {
   "cell_type": "markdown",
   "metadata": {},
   "source": [
    "#### 12.2. Вибірку з розподілу Бернулі:\n",
    "```\n",
    "```\n",
    "```\n",
    "```\n",
    "```\n",
    "```\n",
    "```\n",
    "Максимальна оцінка: 2 бали\n",
    "Рекомендований час: 2хв\n",
    "```"
   ]
  },
  {
   "cell_type": "code",
   "execution_count": 34,
   "metadata": {},
   "outputs": [
    {
     "data": {
      "text/plain": [
       "<matplotlib.text.Text at 0x29f03efa9e8>"
      ]
     },
     "execution_count": 34,
     "metadata": {},
     "output_type": "execute_result"
    },
    {
     "data": {
      "image/png": "[encoded data removed]",
      "text/plain": [
       "<matplotlib.figure.Figure at 0x29f0403ffd0>"
      ]
     },
     "metadata": {},
     "output_type": "display_data"
    }
   ],
   "source": [
    "bernoulli_rv = sts.bernoulli(0.65)\n",
    "plt.hist(bernoulli_rv.rvs(100), bins=20, normed=True)\n",
    "plt.ylabel('y')\n",
    "plt.xlabel('x')"
   ]
  },
  {
   "cell_type": "markdown",
   "metadata": {},
   "source": [
    "#### 12.3. Вибірку з біноміального розподілу:\n",
    "```\n",
    "```\n",
    "```\n",
    "```\n",
    "```\n",
    "```\n",
    "```\n",
    "Максимальна оцінка: 2 бали\n",
    "Рекомендований час: 2хв\n",
    "```"
   ]
  },
  {
   "cell_type": "code",
   "execution_count": 37,
   "metadata": {},
   "outputs": [
    {
     "data": {
      "text/plain": [
       "<matplotlib.text.Text at 0x29f0431af60>"
      ]
     },
     "execution_count": 37,
     "metadata": {},
     "output_type": "execute_result"
    },
    {
     "data": {
      "image/png": "[encoded data removed]",
      "text/plain": [
       "<matplotlib.figure.Figure at 0x29f04360390>"
      ]
     },
     "metadata": {},
     "output_type": "display_data"
    }
   ],
   "source": [
    "binomial_rv = sts.binom(20, 0.7)\n",
    "\n",
    "plt.hist(binomial_rv.rvs(100), bins=20, normed=True)\n",
    "plt.ylabel('y')\n",
    "plt.xlabel('x')"
   ]
  },
  {
   "cell_type": "markdown",
   "metadata": {
    "collapsed": true
   },
   "source": [
    "#### 12.4. Вибірку з розподілу Пуассона:\n",
    "```\n",
    "```\n",
    "```\n",
    "```\n",
    "```\n",
    "```\n",
    "```\n",
    "Максимальна оцінка: 2 бали\n",
    "Рекомендований час: 2хв\n",
    "```"
   ]
  },
  {
   "cell_type": "code",
   "execution_count": 38,
   "metadata": {},
   "outputs": [
    {
     "data": {
      "text/plain": [
       "<matplotlib.text.Text at 0x29f0444b208>"
      ]
     },
     "execution_count": 38,
     "metadata": {},
     "output_type": "execute_result"
    },
    {
     "data": {
      "image/png": "[encoded data removed]",
      "text/plain": [
       "<matplotlib.figure.Figure at 0x29f044722e8>"
      ]
     },
     "metadata": {},
     "output_type": "display_data"
    }
   ],
   "source": [
    "poisson_rv = sts.poisson(5)\n",
    "plt.hist(poisson_rv.rvs(100), bins=20, normed=True)\n",
    "plt.ylabel('y')\n",
    "plt.xlabel('x')"
   ]
  },
  {
   "cell_type": "code",
   "execution_count": null,
   "metadata": {
    "collapsed": true
   },
   "outputs": [],
   "source": []
  }
 ],
 "metadata": {
  "kernelspec": {
   "display_name": "Python 3",
   "language": "python",
   "name": "python3"
  },
  "language_info": {
   "codemirror_mode": {
    "name": "ipython",
    "version": 3
   },
   "file_extension": ".py",
   "mimetype": "text/x-python",
   "name": "python",
   "nbconvert_exporter": "python",
   "pygments_lexer": "ipython3",
   "version": "3.6.1"
  }
 },
 "nbformat": 4,
 "nbformat_minor": 2
}
